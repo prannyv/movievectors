{
 "cells": [
  {
   "cell_type": "code",
   "execution_count": 3,
   "metadata": {},
   "outputs": [
    {
     "name": "stdout",
     "output_type": "stream",
     "text": [
      "Defaulting to user installation because normal site-packages is not writeable\n",
      "Requirement already satisfied: relevanceai in /Users/pranav/Library/Python/3.9/lib/python/site-packages (10.1.2)\n",
      "Requirement already satisfied: pydantic==2.8.2 in /Users/pranav/Library/Python/3.9/lib/python/site-packages (from relevanceai) (2.8.2)\n",
      "Requirement already satisfied: requests==2.32.3 in /Users/pranav/Library/Python/3.9/lib/python/site-packages (from relevanceai) (2.32.3)\n",
      "Requirement already satisfied: httpx==0.27.2 in /Users/pranav/Library/Python/3.9/lib/python/site-packages (from relevanceai) (0.27.2)\n",
      "Requirement already satisfied: anyio in /Users/pranav/Library/Python/3.9/lib/python/site-packages (from httpx==0.27.2->relevanceai) (3.7.1)\n",
      "Requirement already satisfied: certifi in /Users/pranav/Library/Python/3.9/lib/python/site-packages (from httpx==0.27.2->relevanceai) (2023.7.22)\n",
      "Requirement already satisfied: httpcore==1.* in /Users/pranav/Library/Python/3.9/lib/python/site-packages (from httpx==0.27.2->relevanceai) (1.0.2)\n",
      "Requirement already satisfied: idna in /Users/pranav/Library/Python/3.9/lib/python/site-packages (from httpx==0.27.2->relevanceai) (2.10)\n",
      "Requirement already satisfied: sniffio in /Users/pranav/Library/Python/3.9/lib/python/site-packages (from httpx==0.27.2->relevanceai) (1.3.0)\n",
      "Requirement already satisfied: annotated-types>=0.4.0 in /Users/pranav/Library/Python/3.9/lib/python/site-packages (from pydantic==2.8.2->relevanceai) (0.6.0)\n",
      "Requirement already satisfied: pydantic-core==2.20.1 in /Users/pranav/Library/Python/3.9/lib/python/site-packages (from pydantic==2.8.2->relevanceai) (2.20.1)\n",
      "Requirement already satisfied: typing-extensions>=4.6.1 in /Users/pranav/Library/Python/3.9/lib/python/site-packages (from pydantic==2.8.2->relevanceai) (4.12.2)\n",
      "Requirement already satisfied: charset-normalizer<4,>=2 in /Users/pranav/Library/Python/3.9/lib/python/site-packages (from requests==2.32.3->relevanceai) (3.3.2)\n",
      "Requirement already satisfied: urllib3<3,>=1.21.1 in /Users/pranav/Library/Python/3.9/lib/python/site-packages (from requests==2.32.3->relevanceai) (1.26.18)\n",
      "Requirement already satisfied: h11<0.15,>=0.13 in /Users/pranav/Library/Python/3.9/lib/python/site-packages (from httpcore==1.*->httpx==0.27.2->relevanceai) (0.14.0)\n",
      "Requirement already satisfied: exceptiongroup in /Users/pranav/Library/Python/3.9/lib/python/site-packages (from anyio->httpx==0.27.2->relevanceai) (1.2.0)\n",
      "\n",
      "\u001b[1m[\u001b[0m\u001b[34;49mnotice\u001b[0m\u001b[1;39;49m]\u001b[0m\u001b[39;49m A new release of pip is available: \u001b[0m\u001b[31;49m23.3.1\u001b[0m\u001b[39;49m -> \u001b[0m\u001b[32;49m24.3.1\u001b[0m\n",
      "\u001b[1m[\u001b[0m\u001b[34;49mnotice\u001b[0m\u001b[1;39;49m]\u001b[0m\u001b[39;49m To update, run: \u001b[0m\u001b[32;49m/Applications/Xcode.app/Contents/Developer/usr/bin/python3 -m pip install --upgrade pip\u001b[0m\n",
      "Note: you may need to restart the kernel to use updated packages.\n",
      "zsh:1: 4.62.2 not found\n",
      "Note: you may need to restart the kernel to use updated packages.\n",
      "Defaulting to user installation because normal site-packages is not writeable\n",
      "Requirement already satisfied: sentence-transformers in /Users/pranav/Library/Python/3.9/lib/python/site-packages (3.3.1)\n",
      "Requirement already satisfied: transformers<5.0.0,>=4.41.0 in /Users/pranav/Library/Python/3.9/lib/python/site-packages (from sentence-transformers) (4.47.1)\n",
      "Requirement already satisfied: tqdm in /Users/pranav/Library/Python/3.9/lib/python/site-packages (from sentence-transformers) (4.66.1)\n",
      "Requirement already satisfied: torch>=1.11.0 in /Users/pranav/Library/Python/3.9/lib/python/site-packages (from sentence-transformers) (2.1.2)\n",
      "Requirement already satisfied: scikit-learn in /Users/pranav/Library/Python/3.9/lib/python/site-packages (from sentence-transformers) (1.3.2)\n",
      "Requirement already satisfied: scipy in /Users/pranav/Library/Python/3.9/lib/python/site-packages (from sentence-transformers) (1.11.4)\n",
      "Requirement already satisfied: huggingface-hub>=0.20.0 in /Users/pranav/Library/Python/3.9/lib/python/site-packages (from sentence-transformers) (0.27.0)\n",
      "Requirement already satisfied: Pillow in /Users/pranav/Library/Python/3.9/lib/python/site-packages (from sentence-transformers) (10.2.0)\n",
      "Requirement already satisfied: filelock in /Users/pranav/Library/Python/3.9/lib/python/site-packages (from huggingface-hub>=0.20.0->sentence-transformers) (3.13.1)\n",
      "Requirement already satisfied: fsspec>=2023.5.0 in /Users/pranav/Library/Python/3.9/lib/python/site-packages (from huggingface-hub>=0.20.0->sentence-transformers) (2023.12.2)\n",
      "Requirement already satisfied: packaging>=20.9 in /Users/pranav/Library/Python/3.9/lib/python/site-packages (from huggingface-hub>=0.20.0->sentence-transformers) (23.2)\n",
      "Requirement already satisfied: pyyaml>=5.1 in /Users/pranav/Library/Python/3.9/lib/python/site-packages (from huggingface-hub>=0.20.0->sentence-transformers) (6.0.1)\n",
      "Requirement already satisfied: requests in /Users/pranav/Library/Python/3.9/lib/python/site-packages (from huggingface-hub>=0.20.0->sentence-transformers) (2.32.3)\n",
      "Requirement already satisfied: typing-extensions>=3.7.4.3 in /Users/pranav/Library/Python/3.9/lib/python/site-packages (from huggingface-hub>=0.20.0->sentence-transformers) (4.12.2)\n",
      "Requirement already satisfied: sympy in /Users/pranav/Library/Python/3.9/lib/python/site-packages (from torch>=1.11.0->sentence-transformers) (1.12)\n",
      "Requirement already satisfied: networkx in /Users/pranav/Library/Python/3.9/lib/python/site-packages (from torch>=1.11.0->sentence-transformers) (3.2.1)\n",
      "Requirement already satisfied: jinja2 in /Users/pranav/Library/Python/3.9/lib/python/site-packages (from torch>=1.11.0->sentence-transformers) (3.1.3)\n",
      "Requirement already satisfied: numpy>=1.17 in /Users/pranav/Library/Python/3.9/lib/python/site-packages (from transformers<5.0.0,>=4.41.0->sentence-transformers) (1.26.2)\n",
      "Requirement already satisfied: regex!=2019.12.17 in /Users/pranav/Library/Python/3.9/lib/python/site-packages (from transformers<5.0.0,>=4.41.0->sentence-transformers) (2023.12.25)\n",
      "Requirement already satisfied: tokenizers<0.22,>=0.21 in /Users/pranav/Library/Python/3.9/lib/python/site-packages (from transformers<5.0.0,>=4.41.0->sentence-transformers) (0.21.0)\n",
      "Requirement already satisfied: safetensors>=0.4.1 in /Users/pranav/Library/Python/3.9/lib/python/site-packages (from transformers<5.0.0,>=4.41.0->sentence-transformers) (0.4.5)\n",
      "Requirement already satisfied: joblib>=1.1.1 in /Users/pranav/Library/Python/3.9/lib/python/site-packages (from scikit-learn->sentence-transformers) (1.3.2)\n",
      "Requirement already satisfied: threadpoolctl>=2.0.0 in /Users/pranav/Library/Python/3.9/lib/python/site-packages (from scikit-learn->sentence-transformers) (3.2.0)\n",
      "Requirement already satisfied: MarkupSafe>=2.0 in /Users/pranav/Library/Python/3.9/lib/python/site-packages (from jinja2->torch>=1.11.0->sentence-transformers) (2.1.4)\n",
      "Requirement already satisfied: charset-normalizer<4,>=2 in /Users/pranav/Library/Python/3.9/lib/python/site-packages (from requests->huggingface-hub>=0.20.0->sentence-transformers) (3.3.2)\n",
      "Requirement already satisfied: idna<4,>=2.5 in /Users/pranav/Library/Python/3.9/lib/python/site-packages (from requests->huggingface-hub>=0.20.0->sentence-transformers) (2.10)\n",
      "Requirement already satisfied: urllib3<3,>=1.21.1 in /Users/pranav/Library/Python/3.9/lib/python/site-packages (from requests->huggingface-hub>=0.20.0->sentence-transformers) (1.26.18)\n",
      "Requirement already satisfied: certifi>=2017.4.17 in /Users/pranav/Library/Python/3.9/lib/python/site-packages (from requests->huggingface-hub>=0.20.0->sentence-transformers) (2023.7.22)\n",
      "Requirement already satisfied: mpmath>=0.19 in /Users/pranav/Library/Python/3.9/lib/python/site-packages (from sympy->torch>=1.11.0->sentence-transformers) (1.3.0)\n",
      "\n",
      "\u001b[1m[\u001b[0m\u001b[34;49mnotice\u001b[0m\u001b[1;39;49m]\u001b[0m\u001b[39;49m A new release of pip is available: \u001b[0m\u001b[31;49m23.3.1\u001b[0m\u001b[39;49m -> \u001b[0m\u001b[32;49m24.3.1\u001b[0m\n",
      "\u001b[1m[\u001b[0m\u001b[34;49mnotice\u001b[0m\u001b[1;39;49m]\u001b[0m\u001b[39;49m To update, run: \u001b[0m\u001b[32;49m/Applications/Xcode.app/Contents/Developer/usr/bin/python3 -m pip install --upgrade pip\u001b[0m\n",
      "Note: you may need to restart the kernel to use updated packages.\n"
     ]
    }
   ],
   "source": [
    "%pip install -U relevanceai\n",
    "%pip install tqdm>=4.62.2\n",
    "%pip install sentence-transformers"
   ]
  },
  {
   "cell_type": "code",
   "execution_count": 9,
   "metadata": {},
   "outputs": [],
   "source": [
    "import pandas as pd\n",
    "import numpy as np\n",
    "from sentence_transformers import SentenceTransformer"
   ]
  },
  {
   "cell_type": "code",
   "execution_count": 5,
   "metadata": {},
   "outputs": [],
   "source": [
    "df = pd.read_csv('mpst_full_data.csv')\n",
    "json_files = df[['title', 'tags']]\n",
    "json_files = json_files.reset_index()\n",
    "json_files.columns = ['_id', 'title', 'tags']\n",
    "json_files=json_files.to_dict(orient='records')"
   ]
  },
  {
   "cell_type": "code",
   "execution_count": 6,
   "metadata": {},
   "outputs": [
    {
     "name": "stderr",
     "output_type": "stream",
     "text": [
      "No sentence-transformers model found with name bert-base-uncased. Creating a new one with mean pooling.\n"
     ]
    }
   ],
   "source": [
    "model = SentenceTransformer('bert-base-uncased')\n"
   ]
  },
  {
   "cell_type": "code",
   "execution_count": null,
   "metadata": {},
   "outputs": [],
   "source": [
    "#encode on local\n",
    "df_json = model.encode_documents(documents=json_files, fields=['tags'])\n",
    "\n"
   ]
  },
  {
   "cell_type": "code",
   "execution_count": 7,
   "metadata": {},
   "outputs": [
    {
     "data": {
      "application/vnd.jupyter.widget-view+json": {
       "model_id": "22877847bf54466187aad68dac02313e",
       "version_major": 2,
       "version_minor": 0
      },
      "text/plain": [
       "  0%|          | 0/14828 [00:00<?, ?it/s]"
      ]
     },
     "metadata": {},
     "output_type": "display_data"
    }
   ],
   "source": [
    "from tqdm.notebook import tqdm\n",
    "\n",
    "# If you're encoding documents in a loop:\n",
    "encoded_docs = []\n",
    "for doc in tqdm(json_files):\n",
    "    encoded_docs.append(model.encode(doc['tags']))\n",
    "\n"
   ]
  },
  {
   "cell_type": "code",
   "execution_count": 10,
   "metadata": {},
   "outputs": [
    {
     "name": "stdout",
     "output_type": "stream",
     "text": [
      "\n",
      "Caching the list of root modules, please wait!\n",
      "(This will only be done once - type '%rehashx' to reset cache!)\n",
      "\n",
      "This is taking too long, we give up.\n",
      "\n"
     ]
    }
   ],
   "source": [
    "# Convert the embeddings to a dataframe\n",
    "# Assuming encoded_docs is a list of embeddings\n",
    "embeddings_df = pd.DataFrame(encoded_docs)\n",
    "\n",
    "# If you want to keep track of which embedding belongs to which document,\n",
    "# you can add the original titles/IDs\n",
    "embeddings_df['title'] = [doc['title'] for doc in json_files]\n",
    "\n",
    "# Save to CSV\n",
    "embeddings_df.to_csv('document_embeddings.csv', index=False)\n"
   ]
  },
  {
   "cell_type": "code",
   "execution_count": 13,
   "metadata": {},
   "outputs": [
    {
     "data": {
      "text/html": [
       "<div>\n",
       "<style scoped>\n",
       "    .dataframe tbody tr th:only-of-type {\n",
       "        vertical-align: middle;\n",
       "    }\n",
       "\n",
       "    .dataframe tbody tr th {\n",
       "        vertical-align: top;\n",
       "    }\n",
       "\n",
       "    .dataframe thead th {\n",
       "        text-align: right;\n",
       "    }\n",
       "</style>\n",
       "<table border=\"1\" class=\"dataframe\">\n",
       "  <thead>\n",
       "    <tr style=\"text-align: right;\">\n",
       "      <th></th>\n",
       "      <th>0</th>\n",
       "      <th>1</th>\n",
       "      <th>2</th>\n",
       "      <th>3</th>\n",
       "      <th>4</th>\n",
       "      <th>5</th>\n",
       "      <th>6</th>\n",
       "      <th>7</th>\n",
       "      <th>8</th>\n",
       "      <th>9</th>\n",
       "      <th>...</th>\n",
       "      <th>758</th>\n",
       "      <th>759</th>\n",
       "      <th>760</th>\n",
       "      <th>761</th>\n",
       "      <th>762</th>\n",
       "      <th>763</th>\n",
       "      <th>764</th>\n",
       "      <th>765</th>\n",
       "      <th>766</th>\n",
       "      <th>767</th>\n",
       "    </tr>\n",
       "    <tr>\n",
       "      <th>title</th>\n",
       "      <th></th>\n",
       "      <th></th>\n",
       "      <th></th>\n",
       "      <th></th>\n",
       "      <th></th>\n",
       "      <th></th>\n",
       "      <th></th>\n",
       "      <th></th>\n",
       "      <th></th>\n",
       "      <th></th>\n",
       "      <th></th>\n",
       "      <th></th>\n",
       "      <th></th>\n",
       "      <th></th>\n",
       "      <th></th>\n",
       "      <th></th>\n",
       "      <th></th>\n",
       "      <th></th>\n",
       "      <th></th>\n",
       "      <th></th>\n",
       "      <th></th>\n",
       "    </tr>\n",
       "  </thead>\n",
       "  <tbody>\n",
       "    <tr>\n",
       "      <th>I tre volti della paura</th>\n",
       "      <td>0.590904</td>\n",
       "      <td>0.508113</td>\n",
       "      <td>0.250757</td>\n",
       "      <td>-0.275558</td>\n",
       "      <td>0.094298</td>\n",
       "      <td>-0.090742</td>\n",
       "      <td>0.528691</td>\n",
       "      <td>0.640451</td>\n",
       "      <td>-0.232218</td>\n",
       "      <td>0.312643</td>\n",
       "      <td>...</td>\n",
       "      <td>0.415495</td>\n",
       "      <td>0.035748</td>\n",
       "      <td>-0.021137</td>\n",
       "      <td>0.005023</td>\n",
       "      <td>-0.005517</td>\n",
       "      <td>-0.314601</td>\n",
       "      <td>-0.026737</td>\n",
       "      <td>-0.376658</td>\n",
       "      <td>0.418187</td>\n",
       "      <td>-0.156520</td>\n",
       "    </tr>\n",
       "    <tr>\n",
       "      <th>Dungeons &amp; Dragons: The Book of Vile Darkness</th>\n",
       "      <td>0.041725</td>\n",
       "      <td>0.183131</td>\n",
       "      <td>-0.476435</td>\n",
       "      <td>-0.002563</td>\n",
       "      <td>-0.218320</td>\n",
       "      <td>-0.078436</td>\n",
       "      <td>0.438815</td>\n",
       "      <td>0.343115</td>\n",
       "      <td>-0.018441</td>\n",
       "      <td>-0.116368</td>\n",
       "      <td>...</td>\n",
       "      <td>0.374837</td>\n",
       "      <td>0.130208</td>\n",
       "      <td>0.048416</td>\n",
       "      <td>-0.234432</td>\n",
       "      <td>-0.096896</td>\n",
       "      <td>-0.367775</td>\n",
       "      <td>0.199507</td>\n",
       "      <td>-0.386946</td>\n",
       "      <td>-0.260130</td>\n",
       "      <td>-0.130896</td>\n",
       "    </tr>\n",
       "    <tr>\n",
       "      <th>The Shop Around the Corner</th>\n",
       "      <td>-0.104868</td>\n",
       "      <td>-0.149070</td>\n",
       "      <td>-0.084019</td>\n",
       "      <td>0.046042</td>\n",
       "      <td>-0.121023</td>\n",
       "      <td>-0.223023</td>\n",
       "      <td>0.304995</td>\n",
       "      <td>-0.144916</td>\n",
       "      <td>0.140501</td>\n",
       "      <td>-0.161094</td>\n",
       "      <td>...</td>\n",
       "      <td>0.505341</td>\n",
       "      <td>-0.437074</td>\n",
       "      <td>0.129242</td>\n",
       "      <td>-0.268629</td>\n",
       "      <td>0.000765</td>\n",
       "      <td>-0.327912</td>\n",
       "      <td>0.067958</td>\n",
       "      <td>-0.158716</td>\n",
       "      <td>-0.184599</td>\n",
       "      <td>-0.217432</td>\n",
       "    </tr>\n",
       "    <tr>\n",
       "      <th>Mr. Holland's Opus</th>\n",
       "      <td>0.085151</td>\n",
       "      <td>0.309041</td>\n",
       "      <td>0.287436</td>\n",
       "      <td>-0.002211</td>\n",
       "      <td>0.088479</td>\n",
       "      <td>-0.156280</td>\n",
       "      <td>0.453092</td>\n",
       "      <td>0.499135</td>\n",
       "      <td>-0.010497</td>\n",
       "      <td>-0.255139</td>\n",
       "      <td>...</td>\n",
       "      <td>0.402410</td>\n",
       "      <td>-0.331378</td>\n",
       "      <td>0.129561</td>\n",
       "      <td>-0.020665</td>\n",
       "      <td>0.243415</td>\n",
       "      <td>-0.294872</td>\n",
       "      <td>-0.341255</td>\n",
       "      <td>-0.620305</td>\n",
       "      <td>-0.247177</td>\n",
       "      <td>0.136454</td>\n",
       "    </tr>\n",
       "    <tr>\n",
       "      <th>Scarface</th>\n",
       "      <td>0.095817</td>\n",
       "      <td>0.346465</td>\n",
       "      <td>0.376406</td>\n",
       "      <td>-0.180291</td>\n",
       "      <td>0.011381</td>\n",
       "      <td>0.250324</td>\n",
       "      <td>0.512149</td>\n",
       "      <td>0.459217</td>\n",
       "      <td>-0.082922</td>\n",
       "      <td>-0.032871</td>\n",
       "      <td>...</td>\n",
       "      <td>0.388172</td>\n",
       "      <td>-0.042081</td>\n",
       "      <td>0.076477</td>\n",
       "      <td>-0.063727</td>\n",
       "      <td>0.116248</td>\n",
       "      <td>-0.614173</td>\n",
       "      <td>-0.097868</td>\n",
       "      <td>-0.586770</td>\n",
       "      <td>0.087275</td>\n",
       "      <td>-0.230445</td>\n",
       "    </tr>\n",
       "  </tbody>\n",
       "</table>\n",
       "<p>5 rows × 768 columns</p>\n",
       "</div>"
      ],
      "text/plain": [
       "                                                      0         1         2  \\\n",
       "title                                                                         \n",
       "I tre volti della paura                        0.590904  0.508113  0.250757   \n",
       "Dungeons & Dragons: The Book of Vile Darkness  0.041725  0.183131 -0.476435   \n",
       "The Shop Around the Corner                    -0.104868 -0.149070 -0.084019   \n",
       "Mr. Holland's Opus                             0.085151  0.309041  0.287436   \n",
       "Scarface                                       0.095817  0.346465  0.376406   \n",
       "\n",
       "                                                      3         4         5  \\\n",
       "title                                                                         \n",
       "I tre volti della paura                       -0.275558  0.094298 -0.090742   \n",
       "Dungeons & Dragons: The Book of Vile Darkness -0.002563 -0.218320 -0.078436   \n",
       "The Shop Around the Corner                     0.046042 -0.121023 -0.223023   \n",
       "Mr. Holland's Opus                            -0.002211  0.088479 -0.156280   \n",
       "Scarface                                      -0.180291  0.011381  0.250324   \n",
       "\n",
       "                                                      6         7         8  \\\n",
       "title                                                                         \n",
       "I tre volti della paura                        0.528691  0.640451 -0.232218   \n",
       "Dungeons & Dragons: The Book of Vile Darkness  0.438815  0.343115 -0.018441   \n",
       "The Shop Around the Corner                     0.304995 -0.144916  0.140501   \n",
       "Mr. Holland's Opus                             0.453092  0.499135 -0.010497   \n",
       "Scarface                                       0.512149  0.459217 -0.082922   \n",
       "\n",
       "                                                      9  ...       758  \\\n",
       "title                                                    ...             \n",
       "I tre volti della paura                        0.312643  ...  0.415495   \n",
       "Dungeons & Dragons: The Book of Vile Darkness -0.116368  ...  0.374837   \n",
       "The Shop Around the Corner                    -0.161094  ...  0.505341   \n",
       "Mr. Holland's Opus                            -0.255139  ...  0.402410   \n",
       "Scarface                                      -0.032871  ...  0.388172   \n",
       "\n",
       "                                                    759       760       761  \\\n",
       "title                                                                         \n",
       "I tre volti della paura                        0.035748 -0.021137  0.005023   \n",
       "Dungeons & Dragons: The Book of Vile Darkness  0.130208  0.048416 -0.234432   \n",
       "The Shop Around the Corner                    -0.437074  0.129242 -0.268629   \n",
       "Mr. Holland's Opus                            -0.331378  0.129561 -0.020665   \n",
       "Scarface                                      -0.042081  0.076477 -0.063727   \n",
       "\n",
       "                                                    762       763       764  \\\n",
       "title                                                                         \n",
       "I tre volti della paura                       -0.005517 -0.314601 -0.026737   \n",
       "Dungeons & Dragons: The Book of Vile Darkness -0.096896 -0.367775  0.199507   \n",
       "The Shop Around the Corner                     0.000765 -0.327912  0.067958   \n",
       "Mr. Holland's Opus                             0.243415 -0.294872 -0.341255   \n",
       "Scarface                                       0.116248 -0.614173 -0.097868   \n",
       "\n",
       "                                                    765       766       767  \n",
       "title                                                                        \n",
       "I tre volti della paura                       -0.376658  0.418187 -0.156520  \n",
       "Dungeons & Dragons: The Book of Vile Darkness -0.386946 -0.260130 -0.130896  \n",
       "The Shop Around the Corner                    -0.158716 -0.184599 -0.217432  \n",
       "Mr. Holland's Opus                            -0.620305 -0.247177  0.136454  \n",
       "Scarface                                      -0.586770  0.087275 -0.230445  \n",
       "\n",
       "[5 rows x 768 columns]"
      ]
     },
     "execution_count": 13,
     "metadata": {},
     "output_type": "execute_result"
    }
   ],
   "source": [
    "df_movies_encoded = pd.read_csv('document_embeddings.csv')\n",
    "df_movies_encoded.index = df_movies_encoded.pop('title')"
   ]
  },
  {
   "cell_type": "code",
   "execution_count": 15,
   "metadata": {},
   "outputs": [
    {
     "name": "stderr",
     "output_type": "stream",
     "text": [
      "huggingface/tokenizers: The current process just got forked, after parallelism has already been used. Disabling parallelism to avoid deadlocks...\n",
      "To disable this warning, you can either:\n",
      "\t- Avoid using `tokenizers` before the fork if possible\n",
      "\t- Explicitly set the environment variable TOKENIZERS_PARALLELISM=(true | false)\n"
     ]
    },
    {
     "name": "stdout",
     "output_type": "stream",
     "text": [
      "Defaulting to user installation because normal site-packages is not writeable\n",
      "Collecting Levenshtein\n",
      "  Downloading levenshtein-0.26.1-cp39-cp39-macosx_11_0_arm64.whl.metadata (3.2 kB)\n",
      "Collecting rapidfuzz<4.0.0,>=3.9.0 (from Levenshtein)\n",
      "  Downloading rapidfuzz-3.11.0-cp39-cp39-macosx_11_0_arm64.whl.metadata (11 kB)\n",
      "Downloading levenshtein-0.26.1-cp39-cp39-macosx_11_0_arm64.whl (157 kB)\n",
      "\u001b[2K   \u001b[90m━━━━━━━━━━━━━━━━━━━━━━━━━━━━━━━━━━━━━━━━\u001b[0m \u001b[32m157.5/157.5 kB\u001b[0m \u001b[31m4.9 MB/s\u001b[0m eta \u001b[36m0:00:00\u001b[0m\n",
      "\u001b[?25hDownloading rapidfuzz-3.11.0-cp39-cp39-macosx_11_0_arm64.whl (1.4 MB)\n",
      "\u001b[2K   \u001b[90m━━━━━━━━━━━━━━━━━━━━━━━━━━━━━━━━━━━━━━━━\u001b[0m \u001b[32m1.4/1.4 MB\u001b[0m \u001b[31m25.9 MB/s\u001b[0m eta \u001b[36m0:00:00\u001b[0ma \u001b[36m0:00:01\u001b[0m\n",
      "\u001b[?25hInstalling collected packages: rapidfuzz, Levenshtein\n",
      "Successfully installed Levenshtein-0.26.1 rapidfuzz-3.11.0\n",
      "\n",
      "\u001b[1m[\u001b[0m\u001b[34;49mnotice\u001b[0m\u001b[1;39;49m]\u001b[0m\u001b[39;49m A new release of pip is available: \u001b[0m\u001b[31;49m23.3.1\u001b[0m\u001b[39;49m -> \u001b[0m\u001b[32;49m24.3.1\u001b[0m\n",
      "\u001b[1m[\u001b[0m\u001b[34;49mnotice\u001b[0m\u001b[1;39;49m]\u001b[0m\u001b[39;49m To update, run: \u001b[0m\u001b[32;49m/Applications/Xcode.app/Contents/Developer/usr/bin/python3 -m pip install --upgrade pip\u001b[0m\n",
      "Note: you may need to restart the kernel to use updated packages.\n"
     ]
    }
   ],
   "source": [
    "%pip install Levenshtein"
   ]
  },
  {
   "cell_type": "code",
   "execution_count": 16,
   "metadata": {},
   "outputs": [],
   "source": [
    "from Levenshtein import distance\n",
    "from sklearn.neighbors import NearestNeighbors\n"
   ]
  },
  {
   "cell_type": "code",
   "execution_count": 22,
   "metadata": {},
   "outputs": [],
   "source": [
    "# nbrs = NearestNeighbors(n_neighbors=2, algorithm='ball_tree').fit(df_movies_encoded)\n",
    "# #string-searching algorithm\n",
    "# def closest_title(title):\n",
    "#     m = pd.DataFrame(df_movies_encoded.index)\n",
    "#     m['lev'] = m['title'].apply(lambda x : distance(x, 'Prince of Egypt'))\n",
    "#     return m.sort_values('lev', ascending=True)['title'].iloc[0]\n"
   ]
  },
  {
   "cell_type": "code",
   "execution_count": 32,
   "metadata": {},
   "outputs": [
    {
     "name": "stdout",
     "output_type": "stream",
     "text": [
      "Sample of titles: 0                          I tre volti della paura\n",
      "1    Dungeons & Dragons: The Book of Vile Darkness\n",
      "2                       The Shop Around the Corner\n",
      "3                               Mr. Holland's Opus\n",
      "4                                         Scarface\n",
      "Name: title, dtype: object\n",
      "Data type of title column: object\n"
     ]
    }
   ],
   "source": [
    "df['title'] = df['title'].astype(str)\n",
    "df['title'] = df['title'].replace('nan', '')\n",
    "\n",
    "# Check for any problematic values\n",
    "print(\"Sample of titles:\", df['title'].head())\n",
    "print(\"Data type of title column:\", df['title'].dtype)\n",
    "\n"
   ]
  },
  {
   "cell_type": "code",
   "execution_count": 54,
   "metadata": {},
   "outputs": [],
   "source": [
    "\n",
    "nbrs = NearestNeighbors(n_neighbors=2, algorithm='ball_tree').fit(df_movies_encoded)\n",
    "\n",
    "def closest_title(query_title, titles_df):\n",
    "    \"\"\"Find closest movie title using Levenshtein distance\"\"\"\n",
    "    # Get just the titles column for comparison\n",
    "    titles_only = titles_df['title']\n",
    "    \n",
    "    # Calculate Levenshtein distances\n",
    "    distances = titles_only.astype(str).apply(\n",
    "        lambda x: distance(str(x).lower(), str(query_title).lower())\n",
    "    )\n",
    "    \n",
    "    # Find the closest match\n",
    "    closest_idx = distances.argmin()\n",
    "    return titles_df.iloc[closest_idx]['title']\n"
   ]
  },
  {
   "cell_type": "code",
   "execution_count": 65,
   "metadata": {},
   "outputs": [],
   "source": [
    "def find_similar_movies(query_title, n_neighbors=5):\n",
    "    \"\"\"Find similar movies using both title similarity and embeddings\"\"\"\n",
    "    try:\n",
    "        print(\"Step 1: Looking for movie:\", query_title)\n",
    "        # Find the movie's index in the original dataframe\n",
    "        movie_idx = df[df['title'] == query_title].index\n",
    "        print(\"Found indices:\", movie_idx)\n",
    "        \n",
    "        if len(movie_idx) == 0:\n",
    "            print(\"Step 2a: Exact title not found, using Levenshtein\")\n",
    "            closest = closest_title(query_title, df)\n",
    "            print(\"Closest title found:\", closest)\n",
    "            movie_idx = df[df['title'] == closest].index\n",
    "        else:\n",
    "            print(\"Step 2b: Exact title found\")\n",
    "            \n",
    "        # Convert embeddings to numpy array if it isn't already\n",
    "        embeddings = np.array(df_movies_encoded)\n",
    "        \n",
    "        print(\"Step 3: Getting embedding for index:\", movie_idx[0])\n",
    "        # Use array indexing instead of dictionary-style indexing\n",
    "        query_embedding = embeddings[movie_idx[0]].reshape(1, -1)\n",
    "        \n",
    "        print(\"Step 4: Finding nearest neighbors\")\n",
    "        distances, indices = nbrs.kneighbors(query_embedding)\n",
    "        \n",
    "        print(\"Step 5: Getting similar movies\")\n",
    "        similar_movies = df.iloc[indices[0]]\n",
    "        \n",
    "        # Also handle the case of multiple movies with same title\n",
    "        print(f\"Note: Found {len(movie_idx)} movies with the title '{query_title}'\")\n",
    "        \n",
    "        return similar_movies[['title', 'tags']]\n",
    "        \n",
    "    except Exception as e:\n",
    "        print(f\"Detailed error info:\")\n",
    "        print(f\"Error type: {type(e)}\")\n",
    "        print(f\"Error message: {str(e)}\")\n",
    "        print(f\"Step where error occurred: {e.__traceback__.tb_lineno}\")\n",
    "        return None"
   ]
  },
  {
   "cell_type": "code",
   "execution_count": 70,
   "metadata": {},
   "outputs": [
    {
     "name": "stdout",
     "output_type": "stream",
     "text": [
      "Step 1: Looking for movie: The Wolf of Wall Street\n",
      "Found indices: Index([2098], dtype='int64')\n",
      "Step 2b: Exact title found\n",
      "Step 3: Getting embedding for index: 2098\n",
      "Step 4: Finding nearest neighbors\n",
      "Step 5: Getting similar movies\n",
      "Note: Found 1 movies with the title 'The Wolf of Wall Street'\n",
      "                         title  \\\n",
      "2098   The Wolf of Wall Street   \n",
      "14345           50 First Dates   \n",
      "\n",
      "                                                    tags  \n",
      "2098   comedy, flashback, satire, romantic, entertain...  \n",
      "14345   comedy, prank, entertaining, romantic, flashback  \n"
     ]
    },
    {
     "name": "stderr",
     "output_type": "stream",
     "text": [
      "/Users/pranav/Library/Python/3.9/lib/python/site-packages/sklearn/base.py:465: UserWarning: X does not have valid feature names, but NearestNeighbors was fitted with feature names\n",
      "  warnings.warn(\n"
     ]
    }
   ],
   "source": [
    "print(find_similar_movies(\"The Wolf of Wall Street\"))"
   ]
  },
  {
   "cell_type": "code",
   "execution_count": 53,
   "metadata": {},
   "outputs": [
    {
     "name": "stdout",
     "output_type": "stream",
     "text": [
      "Index(['imdb_id', 'title', 'plot_synopsis', 'tags', 'split',\n",
      "       'synopsis_source'],\n",
      "      dtype='object')\n",
      "\n",
      "Sample of first few rows:\n",
      "     imdb_id                                          title  \\\n",
      "0  tt0057603                        I tre volti della paura   \n",
      "1  tt1733125  Dungeons & Dragons: The Book of Vile Darkness   \n",
      "2  tt0033045                     The Shop Around the Corner   \n",
      "3  tt0113862                             Mr. Holland's Opus   \n",
      "4  tt0086250                                       Scarface   \n",
      "\n",
      "                                       plot_synopsis  \\\n",
      "0  Note: this synopsis is for the orginal Italian...   \n",
      "1  Two thousand years ago, Nhagruul the Foul, a s...   \n",
      "2  Matuschek's, a gift store in Budapest, is the ...   \n",
      "3  Glenn Holland, not a morning person by anyone'...   \n",
      "4  In May 1980, a Cuban man named Tony Montana (A...   \n",
      "\n",
      "                                                tags  split synopsis_source  \n",
      "0          cult, horror, gothic, murder, atmospheric  train            imdb  \n",
      "1                                           violence  train            imdb  \n",
      "2                                           romantic   test            imdb  \n",
      "3             inspiring, romantic, stupid, feel-good  train            imdb  \n",
      "4  cruelty, murder, dramatic, cult, violence, atm...    val            imdb  \n"
     ]
    }
   ],
   "source": [
    "# Print a few columns to understand the structure\n",
    "print(df.columns)\n",
    "print(\"\\nSample of first few rows:\")\n",
    "print(df.head())\n"
   ]
  }
 ],
 "metadata": {
  "kernelspec": {
   "display_name": "Python 3",
   "language": "python",
   "name": "python3"
  },
  "language_info": {
   "codemirror_mode": {
    "name": "ipython",
    "version": 3
   },
   "file_extension": ".py",
   "mimetype": "text/x-python",
   "name": "python",
   "nbconvert_exporter": "python",
   "pygments_lexer": "ipython3",
   "version": "3.9.6"
  }
 },
 "nbformat": 4,
 "nbformat_minor": 2
}
